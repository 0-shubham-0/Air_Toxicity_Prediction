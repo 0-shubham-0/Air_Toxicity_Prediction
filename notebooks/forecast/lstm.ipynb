{
 "cells": [
  {
   "cell_type": "code",
   "execution_count": 1,
   "metadata": {},
   "outputs": [],
   "source": [
    "import pandas as pd\n",
    "import numpy as np\n",
    "from sklearn.preprocessing import MinMaxScaler\n",
    "from keras.models import Sequential\n",
    "from keras.layers import LSTM, Dense"
   ]
  },
  {
   "cell_type": "code",
   "execution_count": 5,
   "metadata": {},
   "outputs": [
    {
     "data": {
      "text/html": [
       "<div>\n",
       "<style scoped>\n",
       "    .dataframe tbody tr th:only-of-type {\n",
       "        vertical-align: middle;\n",
       "    }\n",
       "\n",
       "    .dataframe tbody tr th {\n",
       "        vertical-align: top;\n",
       "    }\n",
       "\n",
       "    .dataframe thead th {\n",
       "        text-align: right;\n",
       "    }\n",
       "</style>\n",
       "<table border=\"1\" class=\"dataframe\">\n",
       "  <thead>\n",
       "    <tr style=\"text-align: right;\">\n",
       "      <th></th>\n",
       "      <th>From Date</th>\n",
       "      <th>NH3</th>\n",
       "      <th>SO2</th>\n",
       "      <th>CO</th>\n",
       "      <th>Ozone</th>\n",
       "      <th>Benzene</th>\n",
       "      <th>PM2.5</th>\n",
       "      <th>PM10</th>\n",
       "      <th>NO</th>\n",
       "      <th>NO2</th>\n",
       "      <th>NOx</th>\n",
       "      <th>Eth-Benzene</th>\n",
       "      <th>MP-Xylene</th>\n",
       "      <th>O</th>\n",
       "      <th>WS</th>\n",
       "      <th>WD</th>\n",
       "      <th>AT</th>\n",
       "      <th>HOUR</th>\n",
       "      <th>MONTH</th>\n",
       "    </tr>\n",
       "  </thead>\n",
       "  <tbody>\n",
       "    <tr>\n",
       "      <th>0</th>\n",
       "      <td>2019-06-01 00:00:00</td>\n",
       "      <td>8.968447</td>\n",
       "      <td>12.179626</td>\n",
       "      <td>0.373962</td>\n",
       "      <td>13.710286</td>\n",
       "      <td>6.367238</td>\n",
       "      <td>17.086000</td>\n",
       "      <td>58.661489</td>\n",
       "      <td>59.723048</td>\n",
       "      <td>16.579524</td>\n",
       "      <td>76.262476</td>\n",
       "      <td>4.171932</td>\n",
       "      <td>21.877100</td>\n",
       "      <td>87.716774</td>\n",
       "      <td>1.227097</td>\n",
       "      <td>184.529677</td>\n",
       "      <td>27.810215</td>\n",
       "      <td>0</td>\n",
       "      <td>6</td>\n",
       "    </tr>\n",
       "    <tr>\n",
       "      <th>1</th>\n",
       "      <td>2019-06-01 01:00:00</td>\n",
       "      <td>9.016863</td>\n",
       "      <td>11.966923</td>\n",
       "      <td>0.349231</td>\n",
       "      <td>13.906923</td>\n",
       "      <td>5.444466</td>\n",
       "      <td>16.093861</td>\n",
       "      <td>51.717188</td>\n",
       "      <td>59.477379</td>\n",
       "      <td>15.399406</td>\n",
       "      <td>74.491359</td>\n",
       "      <td>4.104333</td>\n",
       "      <td>21.602857</td>\n",
       "      <td>87.869348</td>\n",
       "      <td>1.153152</td>\n",
       "      <td>187.873913</td>\n",
       "      <td>27.744130</td>\n",
       "      <td>1</td>\n",
       "      <td>6</td>\n",
       "    </tr>\n",
       "    <tr>\n",
       "      <th>2</th>\n",
       "      <td>2019-06-01 02:00:00</td>\n",
       "      <td>9.504804</td>\n",
       "      <td>12.471415</td>\n",
       "      <td>0.305619</td>\n",
       "      <td>13.750286</td>\n",
       "      <td>4.365825</td>\n",
       "      <td>15.659320</td>\n",
       "      <td>54.967634</td>\n",
       "      <td>56.430673</td>\n",
       "      <td>14.609010</td>\n",
       "      <td>70.510865</td>\n",
       "      <td>4.089186</td>\n",
       "      <td>21.700000</td>\n",
       "      <td>88.223226</td>\n",
       "      <td>1.124731</td>\n",
       "      <td>181.798710</td>\n",
       "      <td>27.602903</td>\n",
       "      <td>2</td>\n",
       "      <td>6</td>\n",
       "    </tr>\n",
       "    <tr>\n",
       "      <th>3</th>\n",
       "      <td>2019-06-01 03:00:00</td>\n",
       "      <td>9.895050</td>\n",
       "      <td>12.776481</td>\n",
       "      <td>0.294231</td>\n",
       "      <td>14.580286</td>\n",
       "      <td>2.354608</td>\n",
       "      <td>15.780962</td>\n",
       "      <td>53.554946</td>\n",
       "      <td>56.006408</td>\n",
       "      <td>13.140686</td>\n",
       "      <td>68.903107</td>\n",
       "      <td>4.638222</td>\n",
       "      <td>23.246042</td>\n",
       "      <td>88.747065</td>\n",
       "      <td>1.141848</td>\n",
       "      <td>176.929457</td>\n",
       "      <td>27.411304</td>\n",
       "      <td>3</td>\n",
       "      <td>6</td>\n",
       "    </tr>\n",
       "    <tr>\n",
       "      <th>4</th>\n",
       "      <td>2019-06-01 04:00:00</td>\n",
       "      <td>10.109903</td>\n",
       "      <td>13.154128</td>\n",
       "      <td>0.298302</td>\n",
       "      <td>14.143962</td>\n",
       "      <td>4.111058</td>\n",
       "      <td>14.980377</td>\n",
       "      <td>53.374362</td>\n",
       "      <td>58.782404</td>\n",
       "      <td>13.335400</td>\n",
       "      <td>71.507692</td>\n",
       "      <td>4.162989</td>\n",
       "      <td>21.476224</td>\n",
       "      <td>88.678602</td>\n",
       "      <td>1.128280</td>\n",
       "      <td>173.737204</td>\n",
       "      <td>27.353011</td>\n",
       "      <td>4</td>\n",
       "      <td>6</td>\n",
       "    </tr>\n",
       "  </tbody>\n",
       "</table>\n",
       "</div>"
      ],
      "text/plain": [
       "            From Date        NH3        SO2        CO      Ozone   Benzene  \\\n",
       "0 2019-06-01 00:00:00   8.968447  12.179626  0.373962  13.710286  6.367238   \n",
       "1 2019-06-01 01:00:00   9.016863  11.966923  0.349231  13.906923  5.444466   \n",
       "2 2019-06-01 02:00:00   9.504804  12.471415  0.305619  13.750286  4.365825   \n",
       "3 2019-06-01 03:00:00   9.895050  12.776481  0.294231  14.580286  2.354608   \n",
       "4 2019-06-01 04:00:00  10.109903  13.154128  0.298302  14.143962  4.111058   \n",
       "\n",
       "       PM2.5       PM10         NO        NO2        NOx  Eth-Benzene  \\\n",
       "0  17.086000  58.661489  59.723048  16.579524  76.262476     4.171932   \n",
       "1  16.093861  51.717188  59.477379  15.399406  74.491359     4.104333   \n",
       "2  15.659320  54.967634  56.430673  14.609010  70.510865     4.089186   \n",
       "3  15.780962  53.554946  56.006408  13.140686  68.903107     4.638222   \n",
       "4  14.980377  53.374362  58.782404  13.335400  71.507692     4.162989   \n",
       "\n",
       "   MP-Xylene          O        WS          WD         AT  HOUR  MONTH  \n",
       "0  21.877100  87.716774  1.227097  184.529677  27.810215     0      6  \n",
       "1  21.602857  87.869348  1.153152  187.873913  27.744130     1      6  \n",
       "2  21.700000  88.223226  1.124731  181.798710  27.602903     2      6  \n",
       "3  23.246042  88.747065  1.141848  176.929457  27.411304     3      6  \n",
       "4  21.476224  88.678602  1.128280  173.737204  27.353011     4      6  "
      ]
     },
     "execution_count": 5,
     "metadata": {},
     "output_type": "execute_result"
    }
   ],
   "source": [
    "# Load the CO2 concentration data\n",
    "df = pd.read_csv('../../data/processed/airport_cleaned.csv', parse_dates=['From Date'])\n",
    "# df.drop(\"To Date\", axis=1, inplace=True)\n",
    "df.head()"
   ]
  },
  {
   "cell_type": "code",
   "execution_count": null,
   "metadata": {},
   "outputs": [],
   "source": [
    "# Convert the 'date' column to a datetime object and set it as the index\n",
    "\n",
    "df['From Date'] = pd.to_datetime(df['From Date'])\n",
    "df.set_index('From Date', inplace=True)"
   ]
  },
  {
   "cell_type": "code",
   "execution_count": null,
   "metadata": {},
   "outputs": [],
   "source": [
    "scaler = MinMaxScaler()\n",
    "df['PM10'] = scaler.fit_transform(df['PM10'].values.reshape(-1,1))\n"
   ]
  },
  {
   "cell_type": "code",
   "execution_count": null,
   "metadata": {},
   "outputs": [],
   "source": [
    "# Define the LSTM model\n",
    "n_timesteps = 7 # length of each time series\n",
    "n_features = 1 # number of variables in each time step\n",
    "n_units = 64 # number of memory cells in LSTM layer\n",
    "n_outputs = 1 # number of predicted values\n"
   ]
  },
  {
   "cell_type": "code",
   "execution_count": null,
   "metadata": {},
   "outputs": [],
   "source": [
    "model = Sequential()\n",
    "model.add(LSTM(n_units, input_shape=(n_timesteps, n_features)))\n",
    "model.add(Dense(n_outputs))\n",
    "model.compile(loss='mean_squared_error', optimizer='adam')"
   ]
  },
  {
   "cell_type": "code",
   "execution_count": null,
   "metadata": {},
   "outputs": [],
   "source": [
    "# Split the data into training and testing sets\n",
    "train_size = int(len(df) * 0.7)\n",
    "train_data = df.iloc[:train_size, :]\n",
    "test_data = df.iloc[train_size:, :]"
   ]
  },
  {
   "cell_type": "code",
   "execution_count": null,
   "metadata": {},
   "outputs": [],
   "source": [
    "# Generate the training sequences and labels\n",
    "def generate_sequences(data, n_timesteps):\n",
    "    X, y = [], []\n",
    "    for i in range(len(data) - n_timesteps):\n",
    "        X.append(data[i:i+n_timesteps])\n",
    "        y.append(data[i+n_timesteps])\n",
    "    return np.array(X), np.array(y)"
   ]
  },
  {
   "cell_type": "code",
   "execution_count": 22,
   "metadata": {},
   "outputs": [],
   "source": [
    "X_train, y_train = generate_sequences(train_data['PM10'].values, n_timesteps)\n",
    "X_test, y_test = generate_sequences(test_data['PM10'].values, n_timesteps)\n"
   ]
  },
  {
   "cell_type": "code",
   "execution_count": 23,
   "metadata": {},
   "outputs": [
    {
     "name": "stdout",
     "output_type": "stream",
     "text": [
      "Epoch 1/5\n",
      "740/740 [==============================] - 9s 6ms/step - loss: 0.0030\n",
      "Epoch 2/5\n",
      "740/740 [==============================] - 4s 5ms/step - loss: 0.0023\n",
      "Epoch 3/5\n",
      "740/740 [==============================] - 3s 5ms/step - loss: 0.0022\n",
      "Epoch 4/5\n",
      "740/740 [==============================] - 3s 4ms/step - loss: 0.0022\n",
      "Epoch 5/5\n",
      "740/740 [==============================] - 3s 4ms/step - loss: 0.0022\n"
     ]
    },
    {
     "data": {
      "text/plain": [
       "<keras.callbacks.History at 0x22a252caa40>"
      ]
     },
     "execution_count": 23,
     "metadata": {},
     "output_type": "execute_result"
    }
   ],
   "source": [
    "# Train the model\n",
    "model.fit(X_train, y_train, epochs=5, batch_size=32, verbose=1)\n"
   ]
  },
  {
   "cell_type": "code",
   "execution_count": 24,
   "metadata": {},
   "outputs": [
    {
     "name": "stdout",
     "output_type": "stream",
     "text": [
      "318/318 [==============================] - 1s 2ms/step\n"
     ]
    }
   ],
   "source": [
    "# Make predictions on the testing set\n",
    "y_pred = model.predict(X_test)"
   ]
  },
  {
   "cell_type": "code",
   "execution_count": 25,
   "metadata": {},
   "outputs": [],
   "source": [
    "\n",
    "# Rescale the predictions to the original range\n",
    "y_pred = scaler.inverse_transform(y_pred)"
   ]
  },
  {
   "cell_type": "code",
   "execution_count": 27,
   "metadata": {},
   "outputs": [
    {
     "name": "stdout",
     "output_type": "stream",
     "text": [
      "MSE: 29633.815\n"
     ]
    }
   ],
   "source": [
    "# Evaluate the model\n",
    "mse = np.mean(np.square(y_pred - test_data['PM10'].values))\n",
    "print('MSE: %.3f' % mse)"
   ]
  },
  {
   "cell_type": "code",
   "execution_count": null,
   "metadata": {},
   "outputs": [],
   "source": []
  }
 ],
 "metadata": {
  "kernelspec": {
   "display_name": "Python 3",
   "language": "python",
   "name": "python3"
  },
  "language_info": {
   "codemirror_mode": {
    "name": "ipython",
    "version": 3
   },
   "file_extension": ".py",
   "mimetype": "text/x-python",
   "name": "python",
   "nbconvert_exporter": "python",
   "pygments_lexer": "ipython3",
   "version": "3.10.8"
  },
  "orig_nbformat": 4
 },
 "nbformat": 4,
 "nbformat_minor": 2
}
