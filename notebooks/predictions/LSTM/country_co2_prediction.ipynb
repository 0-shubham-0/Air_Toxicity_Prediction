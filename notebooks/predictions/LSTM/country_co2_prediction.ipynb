{
 "cells": [
  {
   "cell_type": "code",
   "execution_count": 2,
   "id": "65c0dc24",
   "metadata": {},
   "outputs": [],
   "source": [
    "import pandas as pd\n",
    "import numpy as np\n",
    "from sklearn.preprocessing import MinMaxScaler\n",
    "from keras.models import Sequential\n",
    "from keras.layers import Dense, LSTM"
   ]
  },
  {
   "cell_type": "code",
   "execution_count": 3,
   "id": "8d04335b",
   "metadata": {},
   "outputs": [
    {
     "ename": "FileNotFoundError",
     "evalue": "[Errno 2] No such file or directory: '../../../data/processed/co2_country.csv'",
     "output_type": "error",
     "traceback": [
      "\u001b[1;31m---------------------------------------------------------------------------\u001b[0m",
      "\u001b[1;31mFileNotFoundError\u001b[0m                         Traceback (most recent call last)",
      "Cell \u001b[1;32mIn[3], line 3\u001b[0m\n\u001b[0;32m      1\u001b[0m \u001b[39m# Load the CO2 concentration data\u001b[39;00m\n\u001b[0;32m      2\u001b[0m country \u001b[39m=\u001b[39m \u001b[39m'\u001b[39m\u001b[39mIndia\u001b[39m\u001b[39m'\u001b[39m\n\u001b[1;32m----> 3\u001b[0m df \u001b[39m=\u001b[39m pd\u001b[39m.\u001b[39;49mread_csv(\u001b[39m\"\u001b[39;49m\u001b[39m../../../data/processed/co2_country.csv\u001b[39;49m\u001b[39m\"\u001b[39;49m, index_col\u001b[39m=\u001b[39;49m\u001b[39m'\u001b[39;49m\u001b[39myear\u001b[39;49m\u001b[39m'\u001b[39;49m, parse_dates\u001b[39m=\u001b[39;49m\u001b[39mTrue\u001b[39;49;00m)\n\u001b[0;32m      4\u001b[0m df \u001b[39m=\u001b[39m df\u001b[39m.\u001b[39mloc[df[\u001b[39m'\u001b[39m\u001b[39mcountry\u001b[39m\u001b[39m'\u001b[39m] \u001b[39m==\u001b[39m country, [\u001b[39m'\u001b[39m\u001b[39mco2\u001b[39m\u001b[39m'\u001b[39m]]\n\u001b[0;32m      5\u001b[0m df\u001b[39m.\u001b[39mhead()\n",
      "File \u001b[1;32mc:\\Users\\HP\\AppData\\Local\\Programs\\Python\\Python310\\lib\\site-packages\\pandas\\util\\_decorators.py:311\u001b[0m, in \u001b[0;36mdeprecate_nonkeyword_arguments.<locals>.decorate.<locals>.wrapper\u001b[1;34m(*args, **kwargs)\u001b[0m\n\u001b[0;32m    305\u001b[0m \u001b[39mif\u001b[39;00m \u001b[39mlen\u001b[39m(args) \u001b[39m>\u001b[39m num_allow_args:\n\u001b[0;32m    306\u001b[0m     warnings\u001b[39m.\u001b[39mwarn(\n\u001b[0;32m    307\u001b[0m         msg\u001b[39m.\u001b[39mformat(arguments\u001b[39m=\u001b[39marguments),\n\u001b[0;32m    308\u001b[0m         \u001b[39mFutureWarning\u001b[39;00m,\n\u001b[0;32m    309\u001b[0m         stacklevel\u001b[39m=\u001b[39mstacklevel,\n\u001b[0;32m    310\u001b[0m     )\n\u001b[1;32m--> 311\u001b[0m \u001b[39mreturn\u001b[39;00m func(\u001b[39m*\u001b[39margs, \u001b[39m*\u001b[39m\u001b[39m*\u001b[39mkwargs)\n",
      "File \u001b[1;32mc:\\Users\\HP\\AppData\\Local\\Programs\\Python\\Python310\\lib\\site-packages\\pandas\\io\\parsers\\readers.py:586\u001b[0m, in \u001b[0;36mread_csv\u001b[1;34m(filepath_or_buffer, sep, delimiter, header, names, index_col, usecols, squeeze, prefix, mangle_dupe_cols, dtype, engine, converters, true_values, false_values, skipinitialspace, skiprows, skipfooter, nrows, na_values, keep_default_na, na_filter, verbose, skip_blank_lines, parse_dates, infer_datetime_format, keep_date_col, date_parser, dayfirst, cache_dates, iterator, chunksize, compression, thousands, decimal, lineterminator, quotechar, quoting, doublequote, escapechar, comment, encoding, encoding_errors, dialect, error_bad_lines, warn_bad_lines, on_bad_lines, delim_whitespace, low_memory, memory_map, float_precision, storage_options)\u001b[0m\n\u001b[0;32m    571\u001b[0m kwds_defaults \u001b[39m=\u001b[39m _refine_defaults_read(\n\u001b[0;32m    572\u001b[0m     dialect,\n\u001b[0;32m    573\u001b[0m     delimiter,\n\u001b[1;32m   (...)\u001b[0m\n\u001b[0;32m    582\u001b[0m     defaults\u001b[39m=\u001b[39m{\u001b[39m\"\u001b[39m\u001b[39mdelimiter\u001b[39m\u001b[39m\"\u001b[39m: \u001b[39m\"\u001b[39m\u001b[39m,\u001b[39m\u001b[39m\"\u001b[39m},\n\u001b[0;32m    583\u001b[0m )\n\u001b[0;32m    584\u001b[0m kwds\u001b[39m.\u001b[39mupdate(kwds_defaults)\n\u001b[1;32m--> 586\u001b[0m \u001b[39mreturn\u001b[39;00m _read(filepath_or_buffer, kwds)\n",
      "File \u001b[1;32mc:\\Users\\HP\\AppData\\Local\\Programs\\Python\\Python310\\lib\\site-packages\\pandas\\io\\parsers\\readers.py:482\u001b[0m, in \u001b[0;36m_read\u001b[1;34m(filepath_or_buffer, kwds)\u001b[0m\n\u001b[0;32m    479\u001b[0m _validate_names(kwds\u001b[39m.\u001b[39mget(\u001b[39m\"\u001b[39m\u001b[39mnames\u001b[39m\u001b[39m\"\u001b[39m, \u001b[39mNone\u001b[39;00m))\n\u001b[0;32m    481\u001b[0m \u001b[39m# Create the parser.\u001b[39;00m\n\u001b[1;32m--> 482\u001b[0m parser \u001b[39m=\u001b[39m TextFileReader(filepath_or_buffer, \u001b[39m*\u001b[39m\u001b[39m*\u001b[39mkwds)\n\u001b[0;32m    484\u001b[0m \u001b[39mif\u001b[39;00m chunksize \u001b[39mor\u001b[39;00m iterator:\n\u001b[0;32m    485\u001b[0m     \u001b[39mreturn\u001b[39;00m parser\n",
      "File \u001b[1;32mc:\\Users\\HP\\AppData\\Local\\Programs\\Python\\Python310\\lib\\site-packages\\pandas\\io\\parsers\\readers.py:811\u001b[0m, in \u001b[0;36mTextFileReader.__init__\u001b[1;34m(self, f, engine, **kwds)\u001b[0m\n\u001b[0;32m    808\u001b[0m \u001b[39mif\u001b[39;00m \u001b[39m\"\u001b[39m\u001b[39mhas_index_names\u001b[39m\u001b[39m\"\u001b[39m \u001b[39min\u001b[39;00m kwds:\n\u001b[0;32m    809\u001b[0m     \u001b[39mself\u001b[39m\u001b[39m.\u001b[39moptions[\u001b[39m\"\u001b[39m\u001b[39mhas_index_names\u001b[39m\u001b[39m\"\u001b[39m] \u001b[39m=\u001b[39m kwds[\u001b[39m\"\u001b[39m\u001b[39mhas_index_names\u001b[39m\u001b[39m\"\u001b[39m]\n\u001b[1;32m--> 811\u001b[0m \u001b[39mself\u001b[39m\u001b[39m.\u001b[39m_engine \u001b[39m=\u001b[39m \u001b[39mself\u001b[39;49m\u001b[39m.\u001b[39;49m_make_engine(\u001b[39mself\u001b[39;49m\u001b[39m.\u001b[39;49mengine)\n",
      "File \u001b[1;32mc:\\Users\\HP\\AppData\\Local\\Programs\\Python\\Python310\\lib\\site-packages\\pandas\\io\\parsers\\readers.py:1040\u001b[0m, in \u001b[0;36mTextFileReader._make_engine\u001b[1;34m(self, engine)\u001b[0m\n\u001b[0;32m   1036\u001b[0m     \u001b[39mraise\u001b[39;00m \u001b[39mValueError\u001b[39;00m(\n\u001b[0;32m   1037\u001b[0m         \u001b[39mf\u001b[39m\u001b[39m\"\u001b[39m\u001b[39mUnknown engine: \u001b[39m\u001b[39m{\u001b[39;00mengine\u001b[39m}\u001b[39;00m\u001b[39m (valid options are \u001b[39m\u001b[39m{\u001b[39;00mmapping\u001b[39m.\u001b[39mkeys()\u001b[39m}\u001b[39;00m\u001b[39m)\u001b[39m\u001b[39m\"\u001b[39m\n\u001b[0;32m   1038\u001b[0m     )\n\u001b[0;32m   1039\u001b[0m \u001b[39m# error: Too many arguments for \"ParserBase\"\u001b[39;00m\n\u001b[1;32m-> 1040\u001b[0m \u001b[39mreturn\u001b[39;00m mapping[engine](\u001b[39mself\u001b[39m\u001b[39m.\u001b[39mf, \u001b[39m*\u001b[39m\u001b[39m*\u001b[39m\u001b[39mself\u001b[39m\u001b[39m.\u001b[39moptions)\n",
      "File \u001b[1;32mc:\\Users\\HP\\AppData\\Local\\Programs\\Python\\Python310\\lib\\site-packages\\pandas\\io\\parsers\\c_parser_wrapper.py:51\u001b[0m, in \u001b[0;36mCParserWrapper.__init__\u001b[1;34m(self, src, **kwds)\u001b[0m\n\u001b[0;32m     48\u001b[0m kwds[\u001b[39m\"\u001b[39m\u001b[39musecols\u001b[39m\u001b[39m\"\u001b[39m] \u001b[39m=\u001b[39m \u001b[39mself\u001b[39m\u001b[39m.\u001b[39musecols\n\u001b[0;32m     50\u001b[0m \u001b[39m# open handles\u001b[39;00m\n\u001b[1;32m---> 51\u001b[0m \u001b[39mself\u001b[39;49m\u001b[39m.\u001b[39;49m_open_handles(src, kwds)\n\u001b[0;32m     52\u001b[0m \u001b[39massert\u001b[39;00m \u001b[39mself\u001b[39m\u001b[39m.\u001b[39mhandles \u001b[39mis\u001b[39;00m \u001b[39mnot\u001b[39;00m \u001b[39mNone\u001b[39;00m\n\u001b[0;32m     54\u001b[0m \u001b[39m# Have to pass int, would break tests using TextReader directly otherwise :(\u001b[39;00m\n",
      "File \u001b[1;32mc:\\Users\\HP\\AppData\\Local\\Programs\\Python\\Python310\\lib\\site-packages\\pandas\\io\\parsers\\base_parser.py:222\u001b[0m, in \u001b[0;36mParserBase._open_handles\u001b[1;34m(self, src, kwds)\u001b[0m\n\u001b[0;32m    218\u001b[0m \u001b[39mdef\u001b[39;00m \u001b[39m_open_handles\u001b[39m(\u001b[39mself\u001b[39m, src: FilePathOrBuffer, kwds: \u001b[39mdict\u001b[39m[\u001b[39mstr\u001b[39m, Any]) \u001b[39m-\u001b[39m\u001b[39m>\u001b[39m \u001b[39mNone\u001b[39;00m:\n\u001b[0;32m    219\u001b[0m \u001b[39m    \u001b[39m\u001b[39m\"\"\"\u001b[39;00m\n\u001b[0;32m    220\u001b[0m \u001b[39m    Let the readers open IOHandles after they are done with their potential raises.\u001b[39;00m\n\u001b[0;32m    221\u001b[0m \u001b[39m    \"\"\"\u001b[39;00m\n\u001b[1;32m--> 222\u001b[0m     \u001b[39mself\u001b[39m\u001b[39m.\u001b[39mhandles \u001b[39m=\u001b[39m get_handle(\n\u001b[0;32m    223\u001b[0m         src,\n\u001b[0;32m    224\u001b[0m         \u001b[39m\"\u001b[39;49m\u001b[39mr\u001b[39;49m\u001b[39m\"\u001b[39;49m,\n\u001b[0;32m    225\u001b[0m         encoding\u001b[39m=\u001b[39;49mkwds\u001b[39m.\u001b[39;49mget(\u001b[39m\"\u001b[39;49m\u001b[39mencoding\u001b[39;49m\u001b[39m\"\u001b[39;49m, \u001b[39mNone\u001b[39;49;00m),\n\u001b[0;32m    226\u001b[0m         compression\u001b[39m=\u001b[39;49mkwds\u001b[39m.\u001b[39;49mget(\u001b[39m\"\u001b[39;49m\u001b[39mcompression\u001b[39;49m\u001b[39m\"\u001b[39;49m, \u001b[39mNone\u001b[39;49;00m),\n\u001b[0;32m    227\u001b[0m         memory_map\u001b[39m=\u001b[39;49mkwds\u001b[39m.\u001b[39;49mget(\u001b[39m\"\u001b[39;49m\u001b[39mmemory_map\u001b[39;49m\u001b[39m\"\u001b[39;49m, \u001b[39mFalse\u001b[39;49;00m),\n\u001b[0;32m    228\u001b[0m         storage_options\u001b[39m=\u001b[39;49mkwds\u001b[39m.\u001b[39;49mget(\u001b[39m\"\u001b[39;49m\u001b[39mstorage_options\u001b[39;49m\u001b[39m\"\u001b[39;49m, \u001b[39mNone\u001b[39;49;00m),\n\u001b[0;32m    229\u001b[0m         errors\u001b[39m=\u001b[39;49mkwds\u001b[39m.\u001b[39;49mget(\u001b[39m\"\u001b[39;49m\u001b[39mencoding_errors\u001b[39;49m\u001b[39m\"\u001b[39;49m, \u001b[39m\"\u001b[39;49m\u001b[39mstrict\u001b[39;49m\u001b[39m\"\u001b[39;49m),\n\u001b[0;32m    230\u001b[0m     )\n",
      "File \u001b[1;32mc:\\Users\\HP\\AppData\\Local\\Programs\\Python\\Python310\\lib\\site-packages\\pandas\\io\\common.py:702\u001b[0m, in \u001b[0;36mget_handle\u001b[1;34m(path_or_buf, mode, encoding, compression, memory_map, is_text, errors, storage_options)\u001b[0m\n\u001b[0;32m    697\u001b[0m \u001b[39melif\u001b[39;00m \u001b[39misinstance\u001b[39m(handle, \u001b[39mstr\u001b[39m):\n\u001b[0;32m    698\u001b[0m     \u001b[39m# Check whether the filename is to be opened in binary mode.\u001b[39;00m\n\u001b[0;32m    699\u001b[0m     \u001b[39m# Binary mode does not support 'encoding' and 'newline'.\u001b[39;00m\n\u001b[0;32m    700\u001b[0m     \u001b[39mif\u001b[39;00m ioargs\u001b[39m.\u001b[39mencoding \u001b[39mand\u001b[39;00m \u001b[39m\"\u001b[39m\u001b[39mb\u001b[39m\u001b[39m\"\u001b[39m \u001b[39mnot\u001b[39;00m \u001b[39min\u001b[39;00m ioargs\u001b[39m.\u001b[39mmode:\n\u001b[0;32m    701\u001b[0m         \u001b[39m# Encoding\u001b[39;00m\n\u001b[1;32m--> 702\u001b[0m         handle \u001b[39m=\u001b[39m \u001b[39mopen\u001b[39;49m(\n\u001b[0;32m    703\u001b[0m             handle,\n\u001b[0;32m    704\u001b[0m             ioargs\u001b[39m.\u001b[39;49mmode,\n\u001b[0;32m    705\u001b[0m             encoding\u001b[39m=\u001b[39;49mioargs\u001b[39m.\u001b[39;49mencoding,\n\u001b[0;32m    706\u001b[0m             errors\u001b[39m=\u001b[39;49merrors,\n\u001b[0;32m    707\u001b[0m             newline\u001b[39m=\u001b[39;49m\u001b[39m\"\u001b[39;49m\u001b[39m\"\u001b[39;49m,\n\u001b[0;32m    708\u001b[0m         )\n\u001b[0;32m    709\u001b[0m     \u001b[39melse\u001b[39;00m:\n\u001b[0;32m    710\u001b[0m         \u001b[39m# Binary mode\u001b[39;00m\n\u001b[0;32m    711\u001b[0m         handle \u001b[39m=\u001b[39m \u001b[39mopen\u001b[39m(handle, ioargs\u001b[39m.\u001b[39mmode)\n",
      "\u001b[1;31mFileNotFoundError\u001b[0m: [Errno 2] No such file or directory: '../../../data/processed/co2_country.csv'"
     ]
    }
   ],
   "source": [
    "# Load the CO2 concentration data\n",
    "country = 'India'\n",
    "df = pd.read_csv(\"../../../data/processed/co2_country.csv\", index_col='year', parse_dates=True)\n",
    "df = df.loc[df['country'] == country, ['co2']]\n",
    "df.head()\n",
    "df.to_csv"
   ]
  },
  {
   "cell_type": "code",
   "execution_count": null,
   "id": "a83139c3",
   "metadata": {},
   "outputs": [],
   "source": [
    "scaler = MinMaxScaler(feature_range=(0, 1))\n",
    "data = scaler.fit_transform(df['co2'].values.reshape(-1, 1))"
   ]
  },
  {
   "cell_type": "code",
   "execution_count": null,
   "id": "4fd485bd",
   "metadata": {},
   "outputs": [],
   "source": [
    "train_size = int(len(data) * 0.9)\n",
    "train_data, test_data = data[:train_size,:], data[train_size:,:]"
   ]
  },
  {
   "cell_type": "code",
   "execution_count": null,
   "id": "64680c4b",
   "metadata": {},
   "outputs": [],
   "source": [
    "# Create the training and testing datasets\n",
    "def create_dataset(dataset, time_steps=1):\n",
    "    X, Y = [], []\n",
    "    for i in range(len(dataset)-time_steps):\n",
    "        a = dataset[i:(i+time_steps), 0]\n",
    "        X.append(a)\n",
    "        Y.append(dataset[i + time_steps, 0])\n",
    "    return np.array(X), np.array(Y)"
   ]
  },
  {
   "cell_type": "code",
   "execution_count": null,
   "id": "50a8a9e4",
   "metadata": {},
   "outputs": [],
   "source": [
    "\n",
    "time_steps = 5\n",
    "X_train, y_train = create_dataset(train_data, time_steps)\n",
    "X_test, y_test = create_dataset(test_data, time_steps)"
   ]
  },
  {
   "cell_type": "code",
   "execution_count": null,
   "id": "be2f378b",
   "metadata": {},
   "outputs": [
    {
     "data": {
      "text/plain": [
       "array([[0.        ],\n",
       "       [0.0011021 ],\n",
       "       [0.00238732],\n",
       "       [0.00287022],\n",
       "       [0.00427059],\n",
       "       [0.00667716],\n",
       "       [0.00776   ],\n",
       "       [0.01152768],\n",
       "       [0.01310626],\n",
       "       [0.01523231],\n",
       "       [0.01896185],\n",
       "       [0.02238972],\n",
       "       [0.02698766],\n",
       "       [0.03071116],\n",
       "       [0.02959509],\n",
       "       [0.03496174],\n",
       "       [0.03710326],\n",
       "       [0.03717198],\n",
       "       [0.0426519 ],\n",
       "       [0.04391446],\n",
       "       [0.04554137],\n",
       "       [0.04940797],\n",
       "       [0.05358832],\n",
       "       [0.05587596],\n",
       "       [0.05842751],\n",
       "       [0.06535802],\n",
       "       [0.06933788],\n",
       "       [0.07470378],\n",
       "       [0.076285  ],\n",
       "       [0.08124426],\n",
       "       [0.08706851],\n",
       "       [0.09584868],\n",
       "       [0.0997806 ],\n",
       "       [0.1099064 ],\n",
       "       [0.11344074],\n",
       "       [0.12704501],\n",
       "       [0.1378878 ],\n",
       "       [0.14884952],\n",
       "       [0.16257385],\n",
       "       [0.18105846],\n",
       "       [0.19515884],\n",
       "       [0.20926753],\n",
       "       [0.22440129],\n",
       "       [0.23265175],\n",
       "       [0.24736491],\n",
       "       [0.2644231 ],\n",
       "       [0.28849335],\n",
       "       [0.30122998],\n",
       "       [0.30803249],\n",
       "       [0.3359716 ],\n",
       "       [0.34622351],\n",
       "       [0.3513689 ],\n",
       "       [0.36286298],\n",
       "       [0.37666282],\n",
       "       [0.40150367],\n",
       "       [0.42431174],\n",
       "       [0.452144  ],\n",
       "       [0.48926199],\n",
       "       [0.52874162],\n",
       "       [0.58533721],\n",
       "       [0.60990848],\n",
       "       [0.64841136],\n",
       "       [0.7179282 ],\n",
       "       [0.74617805],\n",
       "       [0.80278459],\n",
       "       [0.83428183],\n",
       "       [0.87696506],\n",
       "       [0.89624029],\n",
       "       [0.95875641],\n",
       "       [0.96857751],\n",
       "       [0.90007026],\n",
       "       [1.        ]])"
      ]
     },
     "execution_count": 20,
     "metadata": {},
     "output_type": "execute_result"
    }
   ],
   "source": [
    "data"
   ]
  },
  {
   "cell_type": "code",
   "execution_count": null,
   "id": "9fb4c463",
   "metadata": {},
   "outputs": [
    {
     "data": {
      "text/plain": [
       "array([0.00667716, 0.00776   , 0.01152768, 0.01310626, 0.01523231,\n",
       "       0.01896185, 0.02238972, 0.02698766, 0.03071116, 0.02959509,\n",
       "       0.03496174, 0.03710326, 0.03717198, 0.0426519 , 0.04391446,\n",
       "       0.04554137, 0.04940797, 0.05358832, 0.05587596, 0.05842751,\n",
       "       0.06535802, 0.06933788, 0.07470378, 0.076285  , 0.08124426,\n",
       "       0.08706851, 0.09584868, 0.0997806 , 0.1099064 , 0.11344074,\n",
       "       0.12704501, 0.1378878 , 0.14884952, 0.16257385, 0.18105846,\n",
       "       0.19515884, 0.20926753, 0.22440129, 0.23265175, 0.24736491,\n",
       "       0.2644231 , 0.28849335, 0.30122998, 0.30803249, 0.3359716 ,\n",
       "       0.34622351, 0.3513689 , 0.36286298, 0.37666282, 0.40150367,\n",
       "       0.42431174, 0.452144  , 0.48926199, 0.52874162, 0.58533721,\n",
       "       0.60990848, 0.64841136, 0.7179282 , 0.74617805])"
      ]
     },
     "execution_count": 19,
     "metadata": {},
     "output_type": "execute_result"
    }
   ],
   "source": [
    "y_train"
   ]
  },
  {
   "cell_type": "code",
   "execution_count": null,
   "id": "bade920e",
   "metadata": {},
   "outputs": [
    {
     "data": {
      "text/plain": [
       "array([[0.        , 0.0011021 , 0.00238732, 0.00287022, 0.00427059],\n",
       "       [0.0011021 , 0.00238732, 0.00287022, 0.00427059, 0.00667716],\n",
       "       [0.00238732, 0.00287022, 0.00427059, 0.00667716, 0.00776   ],\n",
       "       [0.00287022, 0.00427059, 0.00667716, 0.00776   , 0.01152768],\n",
       "       [0.00427059, 0.00667716, 0.00776   , 0.01152768, 0.01310626],\n",
       "       [0.00667716, 0.00776   , 0.01152768, 0.01310626, 0.01523231],\n",
       "       [0.00776   , 0.01152768, 0.01310626, 0.01523231, 0.01896185],\n",
       "       [0.01152768, 0.01310626, 0.01523231, 0.01896185, 0.02238972],\n",
       "       [0.01310626, 0.01523231, 0.01896185, 0.02238972, 0.02698766],\n",
       "       [0.01523231, 0.01896185, 0.02238972, 0.02698766, 0.03071116],\n",
       "       [0.01896185, 0.02238972, 0.02698766, 0.03071116, 0.02959509],\n",
       "       [0.02238972, 0.02698766, 0.03071116, 0.02959509, 0.03496174],\n",
       "       [0.02698766, 0.03071116, 0.02959509, 0.03496174, 0.03710326],\n",
       "       [0.03071116, 0.02959509, 0.03496174, 0.03710326, 0.03717198],\n",
       "       [0.02959509, 0.03496174, 0.03710326, 0.03717198, 0.0426519 ],\n",
       "       [0.03496174, 0.03710326, 0.03717198, 0.0426519 , 0.04391446],\n",
       "       [0.03710326, 0.03717198, 0.0426519 , 0.04391446, 0.04554137],\n",
       "       [0.03717198, 0.0426519 , 0.04391446, 0.04554137, 0.04940797],\n",
       "       [0.0426519 , 0.04391446, 0.04554137, 0.04940797, 0.05358832],\n",
       "       [0.04391446, 0.04554137, 0.04940797, 0.05358832, 0.05587596],\n",
       "       [0.04554137, 0.04940797, 0.05358832, 0.05587596, 0.05842751],\n",
       "       [0.04940797, 0.05358832, 0.05587596, 0.05842751, 0.06535802],\n",
       "       [0.05358832, 0.05587596, 0.05842751, 0.06535802, 0.06933788],\n",
       "       [0.05587596, 0.05842751, 0.06535802, 0.06933788, 0.07470378],\n",
       "       [0.05842751, 0.06535802, 0.06933788, 0.07470378, 0.076285  ],\n",
       "       [0.06535802, 0.06933788, 0.07470378, 0.076285  , 0.08124426],\n",
       "       [0.06933788, 0.07470378, 0.076285  , 0.08124426, 0.08706851],\n",
       "       [0.07470378, 0.076285  , 0.08124426, 0.08706851, 0.09584868],\n",
       "       [0.076285  , 0.08124426, 0.08706851, 0.09584868, 0.0997806 ],\n",
       "       [0.08124426, 0.08706851, 0.09584868, 0.0997806 , 0.1099064 ],\n",
       "       [0.08706851, 0.09584868, 0.0997806 , 0.1099064 , 0.11344074],\n",
       "       [0.09584868, 0.0997806 , 0.1099064 , 0.11344074, 0.12704501],\n",
       "       [0.0997806 , 0.1099064 , 0.11344074, 0.12704501, 0.1378878 ],\n",
       "       [0.1099064 , 0.11344074, 0.12704501, 0.1378878 , 0.14884952],\n",
       "       [0.11344074, 0.12704501, 0.1378878 , 0.14884952, 0.16257385],\n",
       "       [0.12704501, 0.1378878 , 0.14884952, 0.16257385, 0.18105846],\n",
       "       [0.1378878 , 0.14884952, 0.16257385, 0.18105846, 0.19515884],\n",
       "       [0.14884952, 0.16257385, 0.18105846, 0.19515884, 0.20926753],\n",
       "       [0.16257385, 0.18105846, 0.19515884, 0.20926753, 0.22440129],\n",
       "       [0.18105846, 0.19515884, 0.20926753, 0.22440129, 0.23265175],\n",
       "       [0.19515884, 0.20926753, 0.22440129, 0.23265175, 0.24736491],\n",
       "       [0.20926753, 0.22440129, 0.23265175, 0.24736491, 0.2644231 ],\n",
       "       [0.22440129, 0.23265175, 0.24736491, 0.2644231 , 0.28849335],\n",
       "       [0.23265175, 0.24736491, 0.2644231 , 0.28849335, 0.30122998],\n",
       "       [0.24736491, 0.2644231 , 0.28849335, 0.30122998, 0.30803249],\n",
       "       [0.2644231 , 0.28849335, 0.30122998, 0.30803249, 0.3359716 ],\n",
       "       [0.28849335, 0.30122998, 0.30803249, 0.3359716 , 0.34622351],\n",
       "       [0.30122998, 0.30803249, 0.3359716 , 0.34622351, 0.3513689 ],\n",
       "       [0.30803249, 0.3359716 , 0.34622351, 0.3513689 , 0.36286298],\n",
       "       [0.3359716 , 0.34622351, 0.3513689 , 0.36286298, 0.37666282],\n",
       "       [0.34622351, 0.3513689 , 0.36286298, 0.37666282, 0.40150367],\n",
       "       [0.3513689 , 0.36286298, 0.37666282, 0.40150367, 0.42431174],\n",
       "       [0.36286298, 0.37666282, 0.40150367, 0.42431174, 0.452144  ],\n",
       "       [0.37666282, 0.40150367, 0.42431174, 0.452144  , 0.48926199],\n",
       "       [0.40150367, 0.42431174, 0.452144  , 0.48926199, 0.52874162],\n",
       "       [0.42431174, 0.452144  , 0.48926199, 0.52874162, 0.58533721],\n",
       "       [0.452144  , 0.48926199, 0.52874162, 0.58533721, 0.60990848],\n",
       "       [0.48926199, 0.52874162, 0.58533721, 0.60990848, 0.64841136],\n",
       "       [0.52874162, 0.58533721, 0.60990848, 0.64841136, 0.7179282 ]])"
      ]
     },
     "execution_count": 21,
     "metadata": {},
     "output_type": "execute_result"
    }
   ],
   "source": [
    "X_train"
   ]
  },
  {
   "cell_type": "code",
   "execution_count": null,
   "id": "f44a79a2",
   "metadata": {},
   "outputs": [],
   "source": [
    "model = Sequential()\n",
    "model.add(LSTM(50, return_sequences=True, input_shape=(X_train.shape[1], 1)))\n",
    "model.add(LSTM(50))\n",
    "model.add(Dense(1))\n",
    "model.compile(loss='mean_squared_error', optimizer='adam', run_eagerly=True)"
   ]
  },
  {
   "cell_type": "code",
   "execution_count": null,
   "id": "a0ac4807",
   "metadata": {},
   "outputs": [
    {
     "name": "stdout",
     "output_type": "stream",
     "text": [
      "Epoch 1/34\n",
      "1/1 [==============================] - 0s 182ms/step - loss: 0.0899 - val_loss: 0.9705\n",
      "Epoch 2/34\n",
      "1/1 [==============================] - 0s 121ms/step - loss: 0.0814 - val_loss: 0.8989\n",
      "Epoch 3/34\n",
      "1/1 [==============================] - 0s 131ms/step - loss: 0.0735 - val_loss: 0.8305\n",
      "Epoch 4/34\n",
      "1/1 [==============================] - 0s 154ms/step - loss: 0.0663 - val_loss: 0.7647\n",
      "Epoch 5/34\n",
      "1/1 [==============================] - 0s 133ms/step - loss: 0.0595 - val_loss: 0.7009\n",
      "Epoch 6/34\n",
      "1/1 [==============================] - 0s 127ms/step - loss: 0.0532 - val_loss: 0.6387\n",
      "Epoch 7/34\n",
      "1/1 [==============================] - 0s 141ms/step - loss: 0.0473 - val_loss: 0.5776\n",
      "Epoch 8/34\n",
      "1/1 [==============================] - 0s 135ms/step - loss: 0.0418 - val_loss: 0.5175\n",
      "Epoch 9/34\n",
      "1/1 [==============================] - 0s 131ms/step - loss: 0.0368 - val_loss: 0.4585\n",
      "Epoch 10/34\n",
      "1/1 [==============================] - 0s 147ms/step - loss: 0.0322 - val_loss: 0.4007\n",
      "Epoch 11/34\n",
      "1/1 [==============================] - 0s 166ms/step - loss: 0.0282 - val_loss: 0.3445\n",
      "Epoch 12/34\n",
      "1/1 [==============================] - 0s 116ms/step - loss: 0.0249 - val_loss: 0.2904\n",
      "Epoch 13/34\n",
      "1/1 [==============================] - 0s 113ms/step - loss: 0.0223 - val_loss: 0.2394\n",
      "Epoch 14/34\n",
      "1/1 [==============================] - 0s 119ms/step - loss: 0.0204 - val_loss: 0.1925\n",
      "Epoch 15/34\n",
      "1/1 [==============================] - 0s 133ms/step - loss: 0.0193 - val_loss: 0.1511\n",
      "Epoch 16/34\n",
      "1/1 [==============================] - 0s 191ms/step - loss: 0.0190 - val_loss: 0.1162\n",
      "Epoch 17/34\n",
      "1/1 [==============================] - 0s 181ms/step - loss: 0.0190 - val_loss: 0.0886\n",
      "Epoch 18/34\n",
      "1/1 [==============================] - 0s 163ms/step - loss: 0.0192 - val_loss: 0.0679\n",
      "Epoch 19/34\n",
      "1/1 [==============================] - 0s 174ms/step - loss: 0.0192 - val_loss: 0.0533\n",
      "Epoch 20/34\n",
      "1/1 [==============================] - 0s 166ms/step - loss: 0.0188 - val_loss: 0.0436\n",
      "Epoch 21/34\n",
      "1/1 [==============================] - 0s 122ms/step - loss: 0.0178 - val_loss: 0.0373\n",
      "Epoch 22/34\n",
      "1/1 [==============================] - 0s 126ms/step - loss: 0.0165 - val_loss: 0.0337\n",
      "Epoch 23/34\n",
      "1/1 [==============================] - 0s 153ms/step - loss: 0.0149 - val_loss: 0.0316\n",
      "Epoch 24/34\n",
      "1/1 [==============================] - 0s 124ms/step - loss: 0.0131 - val_loss: 0.0306\n",
      "Epoch 25/34\n",
      "1/1 [==============================] - 0s 119ms/step - loss: 0.0115 - val_loss: 0.0300\n",
      "Epoch 26/34\n",
      "1/1 [==============================] - 0s 122ms/step - loss: 0.0100 - val_loss: 0.0293\n",
      "Epoch 27/34\n",
      "1/1 [==============================] - 0s 152ms/step - loss: 0.0087 - val_loss: 0.0281\n",
      "Epoch 28/34\n",
      "1/1 [==============================] - 0s 143ms/step - loss: 0.0076 - val_loss: 0.0259\n",
      "Epoch 29/34\n",
      "1/1 [==============================] - 0s 118ms/step - loss: 0.0068 - val_loss: 0.0227\n",
      "Epoch 30/34\n",
      "1/1 [==============================] - 0s 121ms/step - loss: 0.0061 - val_loss: 0.0185\n",
      "Epoch 31/34\n",
      "1/1 [==============================] - 0s 123ms/step - loss: 0.0054 - val_loss: 0.0136\n",
      "Epoch 32/34\n",
      "1/1 [==============================] - 0s 119ms/step - loss: 0.0048 - val_loss: 0.0086\n",
      "Epoch 33/34\n",
      "1/1 [==============================] - 0s 119ms/step - loss: 0.0042 - val_loss: 0.0043\n",
      "Epoch 34/34\n",
      "1/1 [==============================] - 0s 118ms/step - loss: 0.0035 - val_loss: 0.0021\n"
     ]
    }
   ],
   "source": [
    "# history= model.fit(X_train, y_train, epochs=40, batch_size=64, verbose=1)\n",
    "history = model.fit(X_train, y_train, epochs=34, batch_size=64, verbose=1, validation_data=(X_test, y_test))"
   ]
  },
  {
   "cell_type": "code",
   "execution_count": null,
   "id": "25a889a5",
   "metadata": {},
   "outputs": [
    {
     "data": {
      "image/png": "[encoded data removed]",
      "text/plain": [
       "<Figure size 640x480 with 1 Axes>"
      ]
     },
     "metadata": {},
     "output_type": "display_data"
    }
   ],
   "source": [
    "import matplotlib.pyplot as plt\n",
    "plt.plot(history.history['loss'], label='train')\n",
    "plt.plot(history.history['val_loss'], label='test')\n",
    "plt.title('RMSE')\n",
    "plt.xlabel('Epochs')\n",
    "plt.ylabel('RMSE')\n",
    "plt.legend()\n",
    "plt.show()"
   ]
  },
  {
   "cell_type": "code",
   "execution_count": null,
   "id": "db1f6fbf",
   "metadata": {},
   "outputs": [
    {
     "name": "stdout",
     "output_type": "stream",
     "text": [
      "2/2 [==============================] - 0s 23ms/step\n",
      "1/1 [==============================] - 0s 33ms/step\n"
     ]
    }
   ],
   "source": [
    "train_predictions = model.predict(X_train)\n",
    "test_predictions = model.predict(X_test)\n",
    "train_predictions = scaler.inverse_transform(train_predictions)\n",
    "test_predictions = scaler.inverse_transform(test_predictions)\n",
    "y_train = scaler.inverse_transform([y_train])\n",
    "y_test = scaler.inverse_transform([y_test])\n"
   ]
  },
  {
   "cell_type": "code",
   "execution_count": null,
   "id": "d1922d9f",
   "metadata": {},
   "outputs": [
    {
     "data": {
      "image/png": "[encoded data removed]",
      "text/plain": [
       "<Figure size 640x480 with 1 Axes>"
      ]
     },
     "metadata": {},
     "output_type": "display_data"
    }
   ],
   "source": [
    "import matplotlib.pyplot as plt\n",
    "plt.plot(df['co2'].values, label='Actual')\n",
    "plt.plot(np.concatenate([train_predictions, test_predictions]), label='Predicted')\n",
    "plt.legend()\n",
    "plt.show()"
   ]
  },
  {
   "cell_type": "code",
   "execution_count": 4,
   "id": "4078df92",
   "metadata": {},
   "outputs": [
    {
     "ename": "NameError",
     "evalue": "name 'plt' is not defined",
     "output_type": "error",
     "traceback": [
      "\u001b[1;31m---------------------------------------------------------------------------\u001b[0m",
      "\u001b[1;31mNameError\u001b[0m                                 Traceback (most recent call last)",
      "Cell \u001b[1;32mIn[4], line 1\u001b[0m\n\u001b[1;32m----> 1\u001b[0m fig, (ax1, ax2) \u001b[39m=\u001b[39m plt\u001b[39m.\u001b[39msubplots(\u001b[39m1\u001b[39m, \u001b[39m2\u001b[39m, figsize\u001b[39m=\u001b[39m(\u001b[39m12\u001b[39m, \u001b[39m6\u001b[39m))\n\u001b[0;32m      3\u001b[0m ax1\u001b[39m.\u001b[39mplot(df[\u001b[39m'\u001b[39m\u001b[39mco2\u001b[39m\u001b[39m'\u001b[39m]\u001b[39m.\u001b[39mvalues)\n\u001b[0;32m      4\u001b[0m ax1\u001b[39m.\u001b[39mset_title(\u001b[39m'\u001b[39m\u001b[39mActual CO2 Concentration\u001b[39m\u001b[39m'\u001b[39m)\n",
      "\u001b[1;31mNameError\u001b[0m: name 'plt' is not defined"
     ]
    }
   ],
   "source": [
    "fig, (ax1, ax2) = plt.subplots(1, 2, figsize=(12, 6))\n",
    "\n",
    "ax1.plot(df['co2'].values)\n",
    "ax1.set_title('Actual CO2 Concentration')\n",
    "\n",
    "ax2.plot(np.concatenate([train_predictions, test_predictions]))\n",
    "ax2.set_title('Predicted CO2 Concentration')\n",
    "\n",
    "plt.show()\n"
   ]
  },
  {
   "cell_type": "code",
   "execution_count": 18,
   "id": "578fb499",
   "metadata": {},
   "outputs": [
    {
     "ename": "AttributeError",
     "evalue": "'DataFrame' object has no attribute 'reshape'",
     "output_type": "error",
     "traceback": [
      "\u001b[1;31m---------------------------------------------------------------------------\u001b[0m",
      "\u001b[1;31mAttributeError\u001b[0m                            Traceback (most recent call last)",
      "Cell \u001b[1;32mIn[18], line 4\u001b[0m\n\u001b[0;32m      2\u001b[0m future_predictions \u001b[39m=\u001b[39m []\n\u001b[0;32m      3\u001b[0m \u001b[39mfor\u001b[39;00m i \u001b[39min\u001b[39;00m \u001b[39mrange\u001b[39m(\u001b[39m36\u001b[39m): \n\u001b[1;32m----> 4\u001b[0m     next_prediction \u001b[39m=\u001b[39m model\u001b[39m.\u001b[39mpredict(last_time_steps\u001b[39m.\u001b[39;49mreshape(\u001b[39m1\u001b[39m, time_steps, \u001b[39m1\u001b[39m))\n\u001b[0;32m      5\u001b[0m     future_predictions\u001b[39m.\u001b[39mappend(next_prediction[\u001b[39m0\u001b[39m,\u001b[39m0\u001b[39m])\n\u001b[0;32m      6\u001b[0m     last_time_steps \u001b[39m=\u001b[39m np\u001b[39m.\u001b[39mconcatenate([last_time_steps[\u001b[39m1\u001b[39m:], next_prediction], axis\u001b[39m=\u001b[39m\u001b[39m0\u001b[39m)\n",
      "File \u001b[1;32mc:\\Users\\mohdz\\AppData\\Local\\Programs\\Python\\Python310\\lib\\site-packages\\pandas\\core\\generic.py:5902\u001b[0m, in \u001b[0;36mNDFrame.__getattr__\u001b[1;34m(self, name)\u001b[0m\n\u001b[0;32m   5895\u001b[0m \u001b[39mif\u001b[39;00m (\n\u001b[0;32m   5896\u001b[0m     name \u001b[39mnot\u001b[39;00m \u001b[39min\u001b[39;00m \u001b[39mself\u001b[39m\u001b[39m.\u001b[39m_internal_names_set\n\u001b[0;32m   5897\u001b[0m     \u001b[39mand\u001b[39;00m name \u001b[39mnot\u001b[39;00m \u001b[39min\u001b[39;00m \u001b[39mself\u001b[39m\u001b[39m.\u001b[39m_metadata\n\u001b[0;32m   5898\u001b[0m     \u001b[39mand\u001b[39;00m name \u001b[39mnot\u001b[39;00m \u001b[39min\u001b[39;00m \u001b[39mself\u001b[39m\u001b[39m.\u001b[39m_accessors\n\u001b[0;32m   5899\u001b[0m     \u001b[39mand\u001b[39;00m \u001b[39mself\u001b[39m\u001b[39m.\u001b[39m_info_axis\u001b[39m.\u001b[39m_can_hold_identifiers_and_holds_name(name)\n\u001b[0;32m   5900\u001b[0m ):\n\u001b[0;32m   5901\u001b[0m     \u001b[39mreturn\u001b[39;00m \u001b[39mself\u001b[39m[name]\n\u001b[1;32m-> 5902\u001b[0m \u001b[39mreturn\u001b[39;00m \u001b[39mobject\u001b[39;49m\u001b[39m.\u001b[39;49m\u001b[39m__getattribute__\u001b[39;49m(\u001b[39mself\u001b[39;49m, name)\n",
      "\u001b[1;31mAttributeError\u001b[0m: 'DataFrame' object has no attribute 'reshape'"
     ]
    }
   ],
   "source": [
    "last_time_steps = df[-time_steps:]\n",
    "future_predictions = []\n",
    "for i in range(36): \n",
    "    next_prediction = model.predict(last_time_steps.reshape(1, time_steps, 1))\n",
    "    future_predictions.append(next_prediction[0,0])\n",
    "    last_time_steps = np.concatenate([last_time_steps[1:], next_prediction], axis=0)\n"
   ]
  },
  {
   "cell_type": "code",
   "execution_count": null,
   "id": "60368d5d",
   "metadata": {},
   "outputs": [],
   "source": [
    "train_predictions = model.predict(X_train)\n",
    "test_predictions = model.predict(X_test)\n",
    "train_predictions = scaler.inverse_transform(train_predictions)\n",
    "test_predictions = scaler.inverse_transform(test_predictions)\n",
    "y_train = scaler.inverse_transform([y_train])\n",
    "y_test = scaler.inverse_transform([y_test])"
   ]
  },
  {
   "cell_type": "code",
   "execution_count": 1,
   "id": "2d572ef0",
   "metadata": {},
   "outputs": [
    {
     "ename": "NameError",
     "evalue": "name 'X_train' is not defined",
     "output_type": "error",
     "traceback": [
      "\u001b[1;31m---------------------------------------------------------------------------\u001b[0m",
      "\u001b[1;31mNameError\u001b[0m                                 Traceback (most recent call last)",
      "Cell \u001b[1;32mIn[1], line 1\u001b[0m\n\u001b[1;32m----> 1\u001b[0m X_train\n",
      "\u001b[1;31mNameError\u001b[0m: name 'X_train' is not defined"
     ]
    }
   ],
   "source": [
    "X_train"
   ]
  },
  {
   "cell_type": "code",
   "execution_count": null,
   "id": "aa5cbb12",
   "metadata": {},
   "outputs": [],
   "source": []
  }
 ],
 "metadata": {
  "kernelspec": {
   "display_name": "Python 3 (ipykernel)",
   "language": "python",
   "name": "python3"
  },
  "language_info": {
   "codemirror_mode": {
    "name": "ipython",
    "version": 3
   },
   "file_extension": ".py",
   "mimetype": "text/x-python",
   "name": "python",
   "nbconvert_exporter": "python",
   "pygments_lexer": "ipython3",
   "version": "3.10.8"
  },
  "varInspector": {
   "cols": {
    "lenName": 16,
    "lenType": 16,
    "lenVar": 40
   },
   "kernels_config": {
    "python": {
     "delete_cmd_postfix": "",
     "delete_cmd_prefix": "del ",
     "library": "var_list.py",
     "varRefreshCmd": "print(var_dic_list())"
    },
    "r": {
     "delete_cmd_postfix": ") ",
     "delete_cmd_prefix": "rm(",
     "library": "var_list.r",
     "varRefreshCmd": "cat(var_dic_list()) "
    }
   },
   "types_to_exclude": [
    "module",
    "function",
    "builtin_function_or_method",
    "instance",
    "_Feature"
   ],
   "window_display": false
  }
 },
 "nbformat": 4,
 "nbformat_minor": 5
}
