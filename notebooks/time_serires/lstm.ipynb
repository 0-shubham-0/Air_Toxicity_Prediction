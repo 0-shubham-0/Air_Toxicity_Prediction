{
 "cells": [
  {
   "cell_type": "code",
   "execution_count": 15,
   "metadata": {},
   "outputs": [],
   "source": [
    "import pandas as pd\n",
    "import numpy as np\n",
    "from sklearn.preprocessing import MinMaxScaler\n",
    "from keras.models import Sequential\n",
    "from keras.layers import LSTM, Dense"
   ]
  },
  {
   "cell_type": "code",
   "execution_count": 11,
   "metadata": {},
   "outputs": [
    {
     "data": {
      "text/html": [
       "<div>\n",
       "<style scoped>\n",
       "    .dataframe tbody tr th:only-of-type {\n",
       "        vertical-align: middle;\n",
       "    }\n",
       "\n",
       "    .dataframe tbody tr th {\n",
       "        vertical-align: top;\n",
       "    }\n",
       "\n",
       "    .dataframe thead th {\n",
       "        text-align: right;\n",
       "    }\n",
       "</style>\n",
       "<table border=\"1\" class=\"dataframe\">\n",
       "  <thead>\n",
       "    <tr style=\"text-align: right;\">\n",
       "      <th></th>\n",
       "      <th>From Date</th>\n",
       "      <th>PM10</th>\n",
       "    </tr>\n",
       "  </thead>\n",
       "  <tbody>\n",
       "    <tr>\n",
       "      <th>0</th>\n",
       "      <td>2019-06-01 00:00:00</td>\n",
       "      <td>58.661489</td>\n",
       "    </tr>\n",
       "    <tr>\n",
       "      <th>1</th>\n",
       "      <td>2019-06-01 01:00:00</td>\n",
       "      <td>51.717188</td>\n",
       "    </tr>\n",
       "    <tr>\n",
       "      <th>2</th>\n",
       "      <td>2019-06-01 02:00:00</td>\n",
       "      <td>54.967634</td>\n",
       "    </tr>\n",
       "    <tr>\n",
       "      <th>3</th>\n",
       "      <td>2019-06-01 03:00:00</td>\n",
       "      <td>53.554946</td>\n",
       "    </tr>\n",
       "    <tr>\n",
       "      <th>4</th>\n",
       "      <td>2019-06-01 04:00:00</td>\n",
       "      <td>53.374362</td>\n",
       "    </tr>\n",
       "    <tr>\n",
       "      <th>...</th>\n",
       "      <td>...</td>\n",
       "      <td>...</td>\n",
       "    </tr>\n",
       "    <tr>\n",
       "      <th>33832</th>\n",
       "      <td>2023-04-10 16:00:00</td>\n",
       "      <td>237.620000</td>\n",
       "    </tr>\n",
       "    <tr>\n",
       "      <th>33833</th>\n",
       "      <td>2023-04-10 17:00:00</td>\n",
       "      <td>219.950000</td>\n",
       "    </tr>\n",
       "    <tr>\n",
       "      <th>33834</th>\n",
       "      <td>2023-04-10 18:00:00</td>\n",
       "      <td>205.440000</td>\n",
       "    </tr>\n",
       "    <tr>\n",
       "      <th>33835</th>\n",
       "      <td>2023-04-10 19:00:00</td>\n",
       "      <td>185.990000</td>\n",
       "    </tr>\n",
       "    <tr>\n",
       "      <th>33836</th>\n",
       "      <td>2023-04-10 20:00:00</td>\n",
       "      <td>174.310000</td>\n",
       "    </tr>\n",
       "  </tbody>\n",
       "</table>\n",
       "<p>33837 rows × 2 columns</p>\n",
       "</div>"
      ],
      "text/plain": [
       "                From Date        PM10\n",
       "0     2019-06-01 00:00:00   58.661489\n",
       "1     2019-06-01 01:00:00   51.717188\n",
       "2     2019-06-01 02:00:00   54.967634\n",
       "3     2019-06-01 03:00:00   53.554946\n",
       "4     2019-06-01 04:00:00   53.374362\n",
       "...                   ...         ...\n",
       "33832 2023-04-10 16:00:00  237.620000\n",
       "33833 2023-04-10 17:00:00  219.950000\n",
       "33834 2023-04-10 18:00:00  205.440000\n",
       "33835 2023-04-10 19:00:00  185.990000\n",
       "33836 2023-04-10 20:00:00  174.310000\n",
       "\n",
       "[33837 rows x 2 columns]"
      ]
     },
     "execution_count": 11,
     "metadata": {},
     "output_type": "execute_result"
    }
   ],
   "source": [
    "# Load the CO2 concentration data\n",
    "df = pd.read_csv('../../data/processed/airport_cleaned.csv', index_col='Unnamed: 0', parse_dates=['From Date'])\n",
    "# df.drop(\"To Date\", axis=1, inplace=True)\n",
    "df.drop(['NH3','SO2','CO','Ozone','Benzene','PM2.5','NO','NO2','NOx','Eth-Benzene','MP-Xylene','O','WS','WD','AT','HOUR','MONTH'], axis=1, inplace=True)\n",
    "df"
   ]
  },
  {
   "cell_type": "code",
   "execution_count": 12,
   "metadata": {},
   "outputs": [],
   "source": [
    "# Convert the 'date' column to a datetime object and set it as the index\n",
    "\n",
    "df['From Date'] = pd.to_datetime(df['From Date'])\n",
    "df.set_index('From Date', inplace=True)"
   ]
  },
  {
   "cell_type": "code",
   "execution_count": 16,
   "metadata": {},
   "outputs": [],
   "source": [
    "scaler = MinMaxScaler()\n",
    "df['PM10'] = scaler.fit_transform(df['PM10'].values.reshape(-1,1))\n"
   ]
  },
  {
   "cell_type": "code",
   "execution_count": 17,
   "metadata": {},
   "outputs": [],
   "source": [
    "# Define the LSTM model\n",
    "n_timesteps = 7 # length of each time series\n",
    "n_features = 1 # number of variables in each time step\n",
    "n_units = 64 # number of memory cells in LSTM layer\n",
    "n_outputs = 1 # number of predicted values\n"
   ]
  },
  {
   "cell_type": "code",
   "execution_count": 18,
   "metadata": {},
   "outputs": [],
   "source": [
    "model = Sequential()\n",
    "model.add(LSTM(n_units, input_shape=(n_timesteps, n_features)))\n",
    "model.add(Dense(n_outputs))\n",
    "model.compile(loss='mean_squared_error', optimizer='adam')"
   ]
  },
  {
   "cell_type": "code",
   "execution_count": 20,
   "metadata": {},
   "outputs": [],
   "source": [
    "# Split the data into training and testing sets\n",
    "train_size = int(len(df) * 0.7)\n",
    "train_data = df.iloc[:train_size, :]\n",
    "test_data = df.iloc[train_size:, :]"
   ]
  },
  {
   "cell_type": "code",
   "execution_count": 21,
   "metadata": {},
   "outputs": [],
   "source": [
    "# Generate the training sequences and labels\n",
    "def generate_sequences(data, n_timesteps):\n",
    "    X, y = [], []\n",
    "    for i in range(len(data) - n_timesteps):\n",
    "        X.append(data[i:i+n_timesteps])\n",
    "        y.append(data[i+n_timesteps])\n",
    "    return np.array(X), np.array(y)"
   ]
  },
  {
   "cell_type": "code",
   "execution_count": 22,
   "metadata": {},
   "outputs": [],
   "source": [
    "X_train, y_train = generate_sequences(train_data['PM10'].values, n_timesteps)\n",
    "X_test, y_test = generate_sequences(test_data['PM10'].values, n_timesteps)\n"
   ]
  },
  {
   "cell_type": "code",
   "execution_count": 23,
   "metadata": {},
   "outputs": [
    {
     "name": "stdout",
     "output_type": "stream",
     "text": [
      "Epoch 1/5\n",
      "740/740 [==============================] - 9s 6ms/step - loss: 0.0030\n",
      "Epoch 2/5\n",
      "740/740 [==============================] - 4s 5ms/step - loss: 0.0023\n",
      "Epoch 3/5\n",
      "740/740 [==============================] - 3s 5ms/step - loss: 0.0022\n",
      "Epoch 4/5\n",
      "740/740 [==============================] - 3s 4ms/step - loss: 0.0022\n",
      "Epoch 5/5\n",
      "740/740 [==============================] - 3s 4ms/step - loss: 0.0022\n"
     ]
    },
    {
     "data": {
      "text/plain": [
       "<keras.callbacks.History at 0x22a252caa40>"
      ]
     },
     "execution_count": 23,
     "metadata": {},
     "output_type": "execute_result"
    }
   ],
   "source": [
    "# Train the model\n",
    "model.fit(X_train, y_train, epochs=5, batch_size=32, verbose=1)\n"
   ]
  },
  {
   "cell_type": "code",
   "execution_count": 24,
   "metadata": {},
   "outputs": [
    {
     "name": "stdout",
     "output_type": "stream",
     "text": [
      "318/318 [==============================] - 1s 2ms/step\n"
     ]
    }
   ],
   "source": [
    "# Make predictions on the testing set\n",
    "y_pred = model.predict(X_test)"
   ]
  },
  {
   "cell_type": "code",
   "execution_count": 25,
   "metadata": {},
   "outputs": [],
   "source": [
    "\n",
    "# Rescale the predictions to the original range\n",
    "y_pred = scaler.inverse_transform(y_pred)"
   ]
  },
  {
   "cell_type": "code",
   "execution_count": 27,
   "metadata": {},
   "outputs": [
    {
     "name": "stdout",
     "output_type": "stream",
     "text": [
      "MSE: 29633.815\n"
     ]
    }
   ],
   "source": [
    "# Evaluate the model\n",
    "mse = np.mean(np.square(y_pred - test_data['PM10'].values))\n",
    "print('MSE: %.3f' % mse)"
   ]
  },
  {
   "cell_type": "code",
   "execution_count": null,
   "metadata": {},
   "outputs": [],
   "source": []
  }
 ],
 "metadata": {
  "kernelspec": {
   "display_name": "Python 3",
   "language": "python",
   "name": "python3"
  },
  "language_info": {
   "codemirror_mode": {
    "name": "ipython",
    "version": 3
   },
   "file_extension": ".py",
   "mimetype": "text/x-python",
   "name": "python",
   "nbconvert_exporter": "python",
   "pygments_lexer": "ipython3",
   "version": "3.10.8"
  },
  "orig_nbformat": 4
 },
 "nbformat": 4,
 "nbformat_minor": 2
}
